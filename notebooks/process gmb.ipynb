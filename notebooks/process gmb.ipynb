{
 "cells": [
  {
   "cell_type": "code",
   "execution_count": 81,
   "metadata": {
    "scrolled": true
   },
   "outputs": [],
   "source": [
    "import os\n",
    "import csv\n",
    "\n",
    "# def reshape_data(row):\n",
    "    \n",
    "# def convert_gmb_conll(label, prev_label):\n",
    "#     '''\n",
    "#     Credit: https://github.com/Ankkita/Artificial-Intelligence    \n",
    "#     Converts the GMB style label into the CONLL label. This is a temporary function to frame the training.\n",
    "#     '''\n",
    "#     lbl_map = {'gpe' : 'MISC', 'per' : 'PER', 'org' : 'ORG', 'geo' : 'LOC'}\n",
    "#     for g, c in lbl_map.items():\n",
    "#         if label.startswith(g):\n",
    "#             if prev_label.endswith(c):\n",
    "#                 return 'I-' + c\n",
    "#             else:\n",
    "#                 return 'B-' + c\n",
    "#     return 'O'\n",
    "\n",
    "def convert_gmb(gmb_dir):\n",
    "    X = []\n",
    "    y = []\n",
    "    sentences = []\n",
    "    sentence_count = 1\n",
    "    first_word=True\n",
    "#     tmp_label = ''\n",
    "\n",
    "    for root, __subFolders, files in os.walk(gmb_dir):\n",
    "        for file in files:\n",
    "            if file.endswith('.tags'):\n",
    "                rows = []\n",
    "                for line in open(os.path.join(root, file), encoding = 'utf-8'):\n",
    "                    line = line.split()\n",
    "                    if len(line) >= 5 and first_word==True:\n",
    "                        row = [\"Sentence: {}\".format(sentence_count), line[0], line[1], line[4]]\n",
    "                        first_word=False\n",
    "                        sentences.append(row)\n",
    "                    elif len(line) >= 5:\n",
    "                        row = [\",\", line[0], line[1], line[4]]\n",
    "                        sentences.append(row)\n",
    "                    else:\n",
    "                        first_word = True\n",
    "                        sentence_count += 1\n",
    "    return sentences\n",
    "\n",
    "gmb_dir = '../data/gmb-1.0.0'\n",
    "sentences  = convert_gmb(gmb_dir)\n",
    "\n",
    "# import csv\n",
    "\n",
    "with open(\"../data/processed_data/gmb-1.0.0.csv\", \"w\", newline=\"\") as f:\n",
    "    writer = csv.writer(f)\n",
    "    writer.writerow([\"Sentence #\", \"Word\", \"POS\", \"Tag\"])    \n",
    "    writer.writerows(sentences)"
   ]
  },
  {
   "cell_type": "code",
   "execution_count": 80,
   "metadata": {},
   "outputs": [
    {
     "data": {
      "text/plain": [
       "82641"
      ]
     },
     "execution_count": 80,
     "metadata": {},
     "output_type": "execute_result"
    }
   ],
   "source": [
    "len(sentences)"
   ]
  },
  {
   "cell_type": "code",
   "execution_count": 58,
   "metadata": {},
   "outputs": [],
   "source": [
    "# y[0]"
   ]
  },
  {
   "cell_type": "code",
   "execution_count": null,
   "metadata": {},
   "outputs": [],
   "source": []
  }
 ],
 "metadata": {
  "kernelspec": {
   "display_name": "ner_tagger",
   "language": "python",
   "name": "ner_tagger"
  },
  "language_info": {
   "codemirror_mode": {
    "name": "ipython",
    "version": 3
   },
   "file_extension": ".py",
   "mimetype": "text/x-python",
   "name": "python",
   "nbconvert_exporter": "python",
   "pygments_lexer": "ipython3",
   "version": "3.6.7"
  }
 },
 "nbformat": 4,
 "nbformat_minor": 4
}
