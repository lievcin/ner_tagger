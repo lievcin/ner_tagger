{
 "cells": [
  {
   "cell_type": "code",
   "execution_count": 39,
   "metadata": {},
   "outputs": [],
   "source": [
    "import pandas as pd\n",
    "from sklearn.model_selection import train_test_split\n",
    "from tensorflow.keras.preprocessing.sequence import pad_sequences\n",
    "    \n",
    "class Dataset(object):\n",
    "    def __init__(self, path, maxlen):\n",
    "        \"\"\"\n",
    "        Defines self.df as a df with the loaded dataset (for now)\n",
    "        Args:\n",
    "            path: path to the dataset file to load\n",
    "        \"\"\"         \n",
    "        self.data = pd.read_csv(path)\n",
    "        self.data = self.data.fillna(method=\"ffill\")\n",
    "        self.maxlen = maxlen\n",
    "        \n",
    "        self.vocabulary = list(set(self.data[\"Word\"].values)) + [\"ENDPAD\"]\n",
    "        self.vocabulary_size = len(self.vocabulary)\n",
    "        self.labels = list(set(self.data[\"Tag\"].values))\n",
    "        self.labels_size = len(self.labels)\n",
    "\n",
    "        self.word2idx = {w: i + 1 for i, w in enumerate(self.vocabulary)}\n",
    "        self.tag2idx = {t: i for i, t in enumerate(self.labels)}\n",
    "        self.sentences = self.make_sentences()\n",
    "        \n",
    "    def make_sentences(self):\n",
    "        agg_func = lambda s: [(w, p, t) for w, p, t in zip(s[\"Word\"].values.tolist(),\n",
    "                                                           s[\"POS\"].values.tolist(),\n",
    "                                                           s[\"Tag\"].values.tolist())]\n",
    "        grouped = self.data.groupby(\"Sentence #\").apply(agg_func)\n",
    "        sentences = [s for s in grouped]\n",
    "        return sentences\n",
    "    \n",
    "    def make_sequences(self):\n",
    "        X = [[self.word2idx[w[0]] for w in s] for s in self.sentences]\n",
    "        y = [[self.tag2idx[w[2]] for w in s] for s in self.sentences]\n",
    "        return X,y\n",
    "        \n",
    "    def pad_sequences(self, X, y):\n",
    "        X = pad_sequences(maxlen=self.maxlen, sequences=X, padding=\"post\", value=self.vocabulary_size-1)\n",
    "        y = pad_sequences(maxlen=self.maxlen, sequences=y, padding=\"post\", value=self.tag2idx[\"O\"])\n",
    "        return X,y\n",
    "\n",
    "    @property\n",
    "    def Xy(self, test_size=0.2, random_state=42):\n",
    "        X, y = self.make_sequences()\n",
    "        X, y = self.pad_sequences(X, y)\n",
    "        \n",
    "        X_train, X_test, y_train, y_test = train_test_split(X, y, test_size=test_size, random_state=random_state)\n",
    "        return X_train, X_test, y_train, y_test\n"
   ]
  },
  {
   "cell_type": "code",
   "execution_count": 40,
   "metadata": {},
   "outputs": [],
   "source": [
    "ds = Dataset(path=\"../data/processed_data/gmb-1.0.0.csv\", maxlen=50)"
   ]
  },
  {
   "cell_type": "code",
   "execution_count": 45,
   "metadata": {},
   "outputs": [],
   "source": [
    "X_train, X_test, y_train, y_test = ds.Xy"
   ]
  },
  {
   "cell_type": "code",
   "execution_count": 48,
   "metadata": {},
   "outputs": [
    {
     "data": {
      "text/plain": [
       "array([ 6848,  7592,  3234,  5170,  6972,  5035,  3877, 10325, 10325,\n",
       "       10325, 10325, 10325, 10325, 10325, 10325, 10325, 10325, 10325,\n",
       "       10325, 10325, 10325, 10325, 10325, 10325, 10325, 10325, 10325,\n",
       "       10325, 10325, 10325, 10325, 10325, 10325, 10325, 10325, 10325,\n",
       "       10325, 10325, 10325, 10325, 10325, 10325, 10325, 10325, 10325,\n",
       "       10325, 10325, 10325, 10325, 10325], dtype=int32)"
      ]
     },
     "execution_count": 48,
     "metadata": {},
     "output_type": "execute_result"
    }
   ],
   "source": [
    "X_train[0]"
   ]
  },
  {
   "cell_type": "code",
   "execution_count": 47,
   "metadata": {},
   "outputs": [
    {
     "data": {
      "text/plain": [
       "(848, 50)"
      ]
     },
     "execution_count": 47,
     "metadata": {},
     "output_type": "execute_result"
    }
   ],
   "source": [
    "X_test.shape"
   ]
  },
  {
   "cell_type": "code",
   "execution_count": null,
   "metadata": {},
   "outputs": [],
   "source": []
  }
 ],
 "metadata": {
  "kernelspec": {
   "display_name": "ner_tagger",
   "language": "python",
   "name": "ner_tagger"
  },
  "language_info": {
   "codemirror_mode": {
    "name": "ipython",
    "version": 3
   },
   "file_extension": ".py",
   "mimetype": "text/x-python",
   "name": "python",
   "nbconvert_exporter": "python",
   "pygments_lexer": "ipython3",
   "version": "3.6.7"
  }
 },
 "nbformat": 4,
 "nbformat_minor": 4
}
